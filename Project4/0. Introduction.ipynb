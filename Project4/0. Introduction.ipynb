{
 "cells": [
  {
   "cell_type": "markdown",
   "id": "difficult-elder",
   "metadata": {},
   "source": [
    "# West Nile Virus Outbreak Prediction"
   ]
  },
  {
   "cell_type": "markdown",
   "id": "mathematical-mathematics",
   "metadata": {},
   "source": [
    "## Introduction"
   ]
  },
  {
   "cell_type": "markdown",
   "id": "southwest-announcement",
   "metadata": {},
   "source": [
    "West Nile Virus is the **leading cause of mosquito-borne disease in the United States** ([source](https://www.cdc.gov/westnile/index.html])). It was first detected in the United States in 1999 and has since quickly spread around the country by the bite of an infected mosquito to humans. Illinois first identified a case on two dead crows carrying the pathogen in September 2001. By the end of 2002, Illinois had encountered more human cases than any other States in the US ([source](https://www.dph.illinois.gov/topics-services/diseases-and-conditions/west-nile-virus)). \n",
    "\n",
    "In about 20% of people infected by the virus, it was reported that they developed fever, headache, vomiting and rash. In less than 1% of people, it affects nervous systems and poses a 10% risk of death ([source](https://www.cdc.gov/westnile/index.html?CDC_AA_refVal=https%3A%2F%2Fwww.cdc.gov%2Fwestnile%2Ffaq%2FgenQuestions.html)). \n",
    "\n",
    "As there is **no human vaccine** is has progressed beyond phase II clinical trial ([source](https://web.archive.org/web/20171026111330/https://www.cdc.gov/westnile/faq/genQuestions.html), [source](https://www.ncbi.nlm.nih.gov/pmc/articles/PMC2168174)), the best way to avoid the virus is to **avoid being bitten by the mosquitos**. \n",
    "\n",
    "In 2004, the City of Chicago and Chicago Department of Public Health (CDPH) had established a **comprehensive surveillance and control program** to scatter mosquitos trap across the city from late spring through the fall (May to October). The mosquitos trapped then is tested for the presence of West Nile Virus. This data will then be used to help the public health department to determine the location and timing of mosquito spray to curb the adult mosquitos population ([source](https://www.kaggle.com/c/predict-west-nile-virus)). "
   ]
  },
  {
   "cell_type": "markdown",
   "id": "sporting-heavy",
   "metadata": {},
   "source": [
    "## Dataset Overview"
   ]
  },
  {
   "cell_type": "markdown",
   "id": "preceding-cradle",
   "metadata": {},
   "source": [
    "To begin with, it is crucial that we understand the data available to us. This enables us to have an overall picture on the way to piece the information together to obtain a coherent insight."
   ]
  },
  {
   "cell_type": "markdown",
   "id": "western-relations",
   "metadata": {},
   "source": [
    "| Dataset                                            | Content                                                                                                                   | Source                                          | Data Available for     |\n",
    "|----------------------------------------------------|---------------------------------------------------------------------------------------------------------------------------|-------------------------------------------------|------------------------|\n",
    "| Mosquito and Virus Spreading<br>(Training dataset) | - Date<br>- Location of trap<br>- Number of mosquito caught<br>- Mosquito species caught<br>- Presence of West Nile Virus | Chicago Department of Public Health             | 2007, 2009, 2011, 2013 |\n",
    "| Weather                                            | - Date<br>- Temperature related<br>- Humidity related<br>- Wind speed<br>- Sunset/ sunrise timing                         | National Oceanic and Atmospheric Administration | 2007-2014              |\n",
    "| Spray                                              | - Date<br>- Location                                                                                                      | Chicago Department of Public Health             | 2011 and 2013          |"
   ]
  },
  {
   "cell_type": "markdown",
   "id": "built-rehabilitation",
   "metadata": {},
   "source": [
    "Training dataset provides us with the information on location and timing of mosquito and WNV presence. The weather data is believed to have a correlation to the population of mosquito which in turn will carry the virus ([source](https://www.kaggle.com/c/predict-west-nile-virus/data?select=weather.csv.zip)). Meanwhile, spraying pesticide across the city has the intention to reduce the mosquito population. We will further analyse the usage of each dataset subsequently."
   ]
  },
  {
   "cell_type": "markdown",
   "id": "dietary-austin",
   "metadata": {},
   "source": [
    "## Problem Statement and Proposed Approach"
   ]
  },
  {
   "cell_type": "markdown",
   "id": "pursuant-leave",
   "metadata": {},
   "source": [
    "With this in mind, **our team aims to predict the next outbreaks of West Nile Virus (WNV)** in the city of Chicago. This insight is useful for CDPH to effectively allocate its resources to prevent the spread of the virus. We will also consider the best strategy to control the spread of the virus by analysing and providing discussion on the trade-offs between each strategy.\n",
    "\n",
    "As information provided contains a combination of **spatial, timeseries, categorical and numerical features**, we will analyse the **effect** of each type of information to the target variable. If proven useful in predicting WNV presence, the information from each type of features will be included by creating additional features to account for it. Subsequently, a few machine learning models are to be trained and compared based on its efficacy to predict presence of WNV according to its AUC score. Finally, the machine learning model will be used to **predict the occurrence of next WNV outbreak**. This insight is used as a baseline to provide a set of **recommendations for CDPH to prevent future outbreaks**. "
   ]
  },
  {
   "cell_type": "markdown",
   "id": "0a5e0815",
   "metadata": {},
   "source": [
    "## The Data Science Problem\n",
    "\n",
    "Our research puts the [cost of pesticide](https://www.fixr.com/costs/mosquito-control) spraying a 10 acre area (or, a flat surface area with a 100 m radius) to be about USD 10,000 with repeat spraying included for a period of 6 months. Humans infected with WNV incur an [average direct treatment cost](https://wwwnc.cdc.gov/eid/article/25/10/18-1608_article#:~:text=For%2090%20persons%20infected%20with,fever%20(p%3C0.0001)) of USD 8-9,000.\n",
    "\n",
    "One pesticide spray is likely to prevent multiple human infections over a long period (assuming they are effective), and so, we have tentatively placed the cost of a 1 pesticide spray to be 1:20 of that of human treatment (estimating that pesticide sprays help prevent at least 20 infections over a 6 month period).\n",
    "\n",
    "As such, by creating our model, we find how we may keep human treatment to a bare minimum, while reducing pesticide sprays as a second priority.\n",
    "\n",
    "From a confusion matrix, False Negatives in our context are areas which should have been sprayed but were not because the model predicted that there would be a very low probability of WNV infected mosquitoes there. A False Positive would be a place which had a low probability of having said mosquitoes, but the model predicted that it would have them instead.\n",
    "\n",
    "As such, we are aiming to build a model which has the minimum number of False Positives for a given False Negative benchmark (likely 0). Such a model by extension implies a very high ROC-AUC score, or in our specific case, an optimized Specificity-Precision curve."
   ]
  },
  {
   "cell_type": "code",
   "execution_count": null,
   "id": "7b0f3e85",
   "metadata": {},
   "outputs": [],
   "source": []
  }
 ],
 "metadata": {
  "kernelspec": {
   "display_name": "Python 3",
   "language": "python",
   "name": "python3"
  },
  "language_info": {
   "codemirror_mode": {
    "name": "ipython",
    "version": 3
   },
   "file_extension": ".py",
   "mimetype": "text/x-python",
   "name": "python",
   "nbconvert_exporter": "python",
   "pygments_lexer": "ipython3",
   "version": "3.7.9"
  },
  "toc": {
   "base_numbering": 1,
   "nav_menu": {},
   "number_sections": true,
   "sideBar": true,
   "skip_h1_title": false,
   "title_cell": "Table of Contents",
   "title_sidebar": "Contents",
   "toc_cell": false,
   "toc_position": {},
   "toc_section_display": true,
   "toc_window_display": false
  }
 },
 "nbformat": 4,
 "nbformat_minor": 5
}
