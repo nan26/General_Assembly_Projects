{
 "cells": [
  {
   "cell_type": "markdown",
   "id": "2HEaJ0m07los",
   "metadata": {
    "id": "2HEaJ0m07los"
   },
   "source": [
    "# Model Training and Tuning"
   ]
  },
  {
   "cell_type": "markdown",
   "id": "35NnI1aY7w2A",
   "metadata": {
    "id": "35NnI1aY7w2A"
   },
   "source": [
    "## Import Packages"
   ]
  },
  {
   "cell_type": "code",
   "execution_count": 1,
   "id": "billion-chicken",
   "metadata": {
    "id": "billion-chicken"
   },
   "outputs": [],
   "source": [
    "import pandas as pd\n",
    "import numpy as np\n",
    "import matplotlib.pyplot as plt\n",
    "import seaborn as sns\n",
    "from tabulate import tabulate\n",
    "\n",
    "from sklearn.model_selection import train_test_split, GridSearchCV\n",
    "from sklearn.preprocessing import StandardScaler\n",
    "from imblearn.over_sampling import SMOTE\n",
    "\n",
    "from sklearn.linear_model import LogisticRegression\n",
    "from sklearn.ensemble import RandomForestClassifier, AdaBoostClassifier, ExtraTreesClassifier, GradientBoostingClassifier\n",
    "from sklearn.svm import SVC\n",
    "\n",
    "from sklearn.metrics import roc_auc_score, confusion_matrix,  plot_roc_curve, roc_curve, auc"
   ]
  },
  {
   "cell_type": "code",
   "execution_count": 2,
   "id": "VF_BRcqH79mu",
   "metadata": {
    "colab": {
     "base_uri": "https://localhost:8080/"
    },
    "id": "VF_BRcqH79mu",
    "outputId": "26b7cb45-0de6-400b-c5e0-689df7b537a0"
   },
   "outputs": [
    {
     "name": "stdout",
     "output_type": "stream",
     "text": [
      "Dataset folder exists\n"
     ]
    }
   ],
   "source": [
    "# Change this variable to 0 if you use jupyter notebook, or 1 if you use google colab\n",
    "use_colab = 0\n",
    "\n",
    "import os\n",
    "if use_colab:\n",
    "    from google.colab import files\n",
    "    import io\n",
    "\n",
    "if os.path.exists('dataset'):\n",
    "    print('Dataset folder exists')\n",
    "else:\n",
    "    print('Dataset folder not exists. A dataset folder will be created.')\n",
    "    os.mkdir('dataset')\n",
    "\n",
    "def file_exists(parent_directory, file_name):\n",
    "    path = os.path.join(parent_directory, file_name)\n",
    "    if os.path.exists(path):\n",
    "        return 1\n",
    "    else:\n",
    "        return 0\n",
    "    \n",
    "def read_csv_file(use_colab, file_name):\n",
    "    if file_exists('dataset', file_name):\n",
    "        return pd.read_csv('dataset/'+file_name)\n",
    "    else:\n",
    "        print(\"Please upload the file or create one by running previous section's csv export.\")\n",
    "        if use_colab:\n",
    "            print(\"Please upload file: {}\".format(file_name))\n",
    "            upload_file = files.upload()\n",
    "            return pd.read_csv(io.BytesIO(upload_file[file_name]))"
   ]
  },
  {
   "cell_type": "markdown",
   "id": "XxqQJ5UK8VT2",
   "metadata": {
    "id": "XxqQJ5UK8VT2"
   },
   "source": [
    "## Import Data"
   ]
  },
  {
   "cell_type": "code",
   "execution_count": 3,
   "id": "A7ztrLDD7_B1",
   "metadata": {
    "colab": {
     "base_uri": "https://localhost:8080/",
     "height": 254,
     "resources": {
      "http://localhost:8080/nbextensions/google.colab/files.js": {
       "data": "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",
       "headers": [
        [
         "content-type",
         "application/javascript"
        ]
       ],
       "ok": true,
       "status": 200,
       "status_text": ""
      }
     }
    },
    "id": "A7ztrLDD7_B1",
    "outputId": "af9495cf-f042-40b7-87a2-ced2ba7b1dd6"
   },
   "outputs": [],
   "source": [
    "train = read_csv_file(use_colab, 'train_weather_FE.csv')\n",
    "test = read_csv_file(use_colab, 'test_weather_FE.csv')"
   ]
  },
  {
   "cell_type": "code",
   "execution_count": 4,
   "id": "magnetic-scholarship",
   "metadata": {},
   "outputs": [],
   "source": [
    "train.drop(columns=['Date'], inplace=True)\n",
    "test.drop(columns=['Date'], inplace=True)"
   ]
  },
  {
   "cell_type": "code",
   "execution_count": 5,
   "id": "brazilian-mistress",
   "metadata": {},
   "outputs": [
    {
     "name": "stdout",
     "output_type": "stream",
     "text": [
      "<class 'pandas.core.frame.DataFrame'>\n",
      "RangeIndex: 8475 entries, 0 to 8474\n",
      "Data columns (total 21 columns):\n",
      " #   Column            Non-Null Count  Dtype  \n",
      "---  ------            --------------  -----  \n",
      " 0   Latitude          8475 non-null   float64\n",
      " 1   Longitude         8475 non-null   float64\n",
      " 2   WnvPresent        8475 non-null   int64  \n",
      " 3   week_of_year      8475 non-null   int64  \n",
      " 4   dist_to_stat_1    8475 non-null   float64\n",
      " 5   dist_to_stat_2    8475 non-null   float64\n",
      " 6   infection_rate    8475 non-null   float64\n",
      " 7   ('high_rate',)    8475 non-null   float64\n",
      " 8   ('north_high',)   8475 non-null   float64\n",
      " 9   ('north_low',)    8475 non-null   float64\n",
      " 10  ('south_high',)   8475 non-null   float64\n",
      " 11  ('south_low',)    8475 non-null   float64\n",
      " 12  Heat              8475 non-null   float64\n",
      " 13  Cool              8475 non-null   float64\n",
      " 14  Depart            8475 non-null   int64  \n",
      " 15  DarkHours         8475 non-null   float64\n",
      " 16  Tavg_Rol7         8475 non-null   float64\n",
      " 17  DewPoint_Rol7     8475 non-null   float64\n",
      " 18  WetBulb_Rol7      8475 non-null   float64\n",
      " 19  RelHumidity_Rol7  8475 non-null   float64\n",
      " 20  AvgSpeed_Rol7     8475 non-null   float64\n",
      "dtypes: float64(18), int64(3)\n",
      "memory usage: 1.4 MB\n"
     ]
    }
   ],
   "source": [
    "train.info()"
   ]
  },
  {
   "cell_type": "code",
   "execution_count": 6,
   "id": "deadly-jurisdiction",
   "metadata": {},
   "outputs": [
    {
     "name": "stdout",
     "output_type": "stream",
     "text": [
      "<class 'pandas.core.frame.DataFrame'>\n",
      "RangeIndex: 116293 entries, 0 to 116292\n",
      "Data columns (total 21 columns):\n",
      " #   Column            Non-Null Count   Dtype  \n",
      "---  ------            --------------   -----  \n",
      " 0   Id                116293 non-null  int64  \n",
      " 1   Latitude          116293 non-null  float64\n",
      " 2   Longitude         116293 non-null  float64\n",
      " 3   week_of_year      116293 non-null  int64  \n",
      " 4   dist_to_stat_1    116293 non-null  float64\n",
      " 5   dist_to_stat_2    116293 non-null  float64\n",
      " 6   infection_rate    116293 non-null  float64\n",
      " 7   ('high_rate',)    116293 non-null  float64\n",
      " 8   ('north_high',)   116293 non-null  float64\n",
      " 9   ('north_low',)    116293 non-null  float64\n",
      " 10  ('south_high',)   116293 non-null  float64\n",
      " 11  ('south_low',)    116293 non-null  float64\n",
      " 12  Heat              116293 non-null  float64\n",
      " 13  Cool              116293 non-null  float64\n",
      " 14  Depart            116293 non-null  int64  \n",
      " 15  DarkHours         116293 non-null  float64\n",
      " 16  Tavg_Rol7         116293 non-null  float64\n",
      " 17  DewPoint_Rol7     116293 non-null  float64\n",
      " 18  WetBulb_Rol7      116293 non-null  float64\n",
      " 19  RelHumidity_Rol7  116293 non-null  float64\n",
      " 20  AvgSpeed_Rol7     116293 non-null  float64\n",
      "dtypes: float64(18), int64(3)\n",
      "memory usage: 18.6 MB\n"
     ]
    }
   ],
   "source": [
    "test.info()"
   ]
  },
  {
   "cell_type": "markdown",
   "id": "txEROuGo9K5s",
   "metadata": {
    "id": "txEROuGo9K5s"
   },
   "source": [
    "## Baseline Model"
   ]
  },
  {
   "cell_type": "markdown",
   "id": "o9BaePAQ9Qz5",
   "metadata": {
    "id": "o9BaePAQ9Qz5"
   },
   "source": [
    "On our case, predicting false negative means missing up on the actual West Nile Virus presence, preventing us to perform any prevention action to avoid people from falling sick. On the other hand, having false positive means we over-spray pesticide. From here we can see that we need to put a higher emphasize on predicting false negative as the cost is significantly higher than having false positive (detailed explanation in Model Discussion notebook). \n",
    "\n",
    "Therefore, the baseline model for this case will be a model that is extra sensitive, i.e. predict all traps on all time to have WNV to prevent a single false negative appearance. "
   ]
  },
  {
   "cell_type": "code",
   "execution_count": 7,
   "id": "electric-count",
   "metadata": {
    "colab": {
     "base_uri": "https://localhost:8080/"
    },
    "id": "electric-count",
    "outputId": "f2da20ad-91cb-4730-88e3-b171523443eb"
   },
   "outputs": [
    {
     "data": {
      "text/plain": [
       "0    0.946077\n",
       "1    0.053923\n",
       "Name: WnvPresent, dtype: float64"
      ]
     },
     "execution_count": 7,
     "metadata": {},
     "output_type": "execute_result"
    }
   ],
   "source": [
    "train['WnvPresent'].value_counts(normalize=True)"
   ]
  },
  {
   "cell_type": "markdown",
   "id": "gFy4rjav9dQH",
   "metadata": {
    "id": "gFy4rjav9dQH"
   },
   "source": [
    "Based on the score above, the baseline model will accurately predict the dataset with precision of 5.4%. "
   ]
  },
  {
   "cell_type": "markdown",
   "id": "4-g8b7Kv9ghs",
   "metadata": {
    "id": "4-g8b7Kv9ghs"
   },
   "source": [
    "## Data Preparation\n",
    "### Declaring Features & Target Variable"
   ]
  },
  {
   "cell_type": "code",
   "execution_count": 8,
   "id": "attempted-standard",
   "metadata": {
    "id": "attempted-standard"
   },
   "outputs": [
    {
     "name": "stdout",
     "output_type": "stream",
     "text": [
      "(8475, 20) (8475,)\n"
     ]
    }
   ],
   "source": [
    "X = train.drop(columns=['WnvPresent'])\n",
    "y = train['WnvPresent']\n",
    "\n",
    "print(X.shape, y.shape)"
   ]
  },
  {
   "cell_type": "markdown",
   "id": "portable-immunology",
   "metadata": {
    "id": "portable-immunology"
   },
   "source": [
    "### Train/Test Split "
   ]
  },
  {
   "cell_type": "markdown",
   "id": "PLvIO0zsIXDh",
   "metadata": {
    "id": "PLvIO0zsIXDh"
   },
   "source": [
    "We will first split the train data into train and validation dataset. These subsets of data will help in unbiased evaluation of our models and prevent overfitting."
   ]
  },
  {
   "cell_type": "code",
   "execution_count": 9,
   "id": "correct-psychiatry",
   "metadata": {
    "id": "correct-psychiatry"
   },
   "outputs": [
    {
     "name": "stdout",
     "output_type": "stream",
     "text": [
      "(6356, 20) (2119, 20) (6356,) (2119,)\n"
     ]
    }
   ],
   "source": [
    "X_train, X_val, y_train, y_val = train_test_split(X, \n",
    "                                                  y,\n",
    "                                                  stratify=y, \n",
    "                                                  random_state=42)\n",
    "\n",
    "# checking the shape of both train and val dataset\n",
    "print(X_train.shape, X_val.shape, y_train.shape, y_val.shape)"
   ]
  },
  {
   "cell_type": "markdown",
   "id": "chubby-annual",
   "metadata": {
    "id": "chubby-annual"
   },
   "source": [
    "### Preprocessing"
   ]
  },
  {
   "cell_type": "markdown",
   "id": "oKfMdNi6AhB5",
   "metadata": {
    "id": "oKfMdNi6AhB5"
   },
   "source": [
    "We will perform the following preprocessing steps:\n",
    "- Scaling : StandardScaler is used for scaling the data as we will be using Logistic Regression with regularization which requires scaling. \n",
    "- Imbalance Class Treatment : As the target classes are imbalanced, we will synthesize artificial data on the minority class to provide a better minority class representation in our training dataset."
   ]
  },
  {
   "cell_type": "markdown",
   "id": "VVm_IdKnAO4M",
   "metadata": {
    "id": "VVm_IdKnAO4M"
   },
   "source": [
    "#### Standard Scaling"
   ]
  },
  {
   "cell_type": "code",
   "execution_count": 10,
   "id": "RpTQOSQyAOOO",
   "metadata": {
    "id": "RpTQOSQyAOOO"
   },
   "outputs": [],
   "source": [
    "# Scale the features\n",
    "ss = StandardScaler()\n",
    "\n",
    "X_train_sc = ss.fit_transform(X_train)\n",
    "X_val_sc = ss.transform(X_val)"
   ]
  },
  {
   "cell_type": "markdown",
   "id": "QOVk4HUEAnWP",
   "metadata": {
    "id": "QOVk4HUEAnWP"
   },
   "source": [
    "#### Imbalance Data Treatment"
   ]
  },
  {
   "cell_type": "markdown",
   "id": "mTBGn2GMAr3q",
   "metadata": {
    "id": "mTBGn2GMAr3q"
   },
   "source": [
    "As our data is highly imbalance (only 5% of WNV presence), we will need to treat the data to improve the model performance. We did try to use stratify on train_test_split to ensure we provide sufficient data on each class for both train and test set. According to our experiment, doing this cause some models to perform very badly. Therefore, we need to produce more data and the approach we find produce to find the best model is by using **Synthetic Minority Oversampling Technique (SMOTE)**. "
   ]
  },
  {
   "cell_type": "code",
   "execution_count": 11,
   "id": "tropical-disabled",
   "metadata": {
    "colab": {
     "base_uri": "https://localhost:8080/"
    },
    "id": "tropical-disabled",
    "outputId": "2efead72-67a1-4857-e05b-d950530f4deb"
   },
   "outputs": [],
   "source": [
    "# Create more datapoints through the use of SMOTE\n",
    "sm = SMOTE(random_state=42)\n",
    "\n",
    "X_train_sm, y_train_sm = sm.fit_resample(X_train_sc, y_train)"
   ]
  },
  {
   "cell_type": "code",
   "execution_count": 12,
   "id": "spoken-impression",
   "metadata": {
    "colab": {
     "base_uri": "https://localhost:8080/"
    },
    "id": "spoken-impression",
    "outputId": "d698011a-2def-4258-ed8d-68940cd3f4ad"
   },
   "outputs": [
    {
     "name": "stdout",
     "output_type": "stream",
     "text": [
      "(12026, 20) (12026,)\n"
     ]
    }
   ],
   "source": [
    "# Checking the number of rows & columsn again in train after smoting\n",
    "print(X_train_sm.shape, y_train_sm.shape)"
   ]
  },
  {
   "cell_type": "markdown",
   "id": "4Jh_YZAoLQcW",
   "metadata": {
    "id": "4Jh_YZAoLQcW"
   },
   "source": [
    "After smoting we now have 12026 rows in instead of the initial 8475 rows."
   ]
  },
  {
   "cell_type": "markdown",
   "id": "figured-musical",
   "metadata": {
    "id": "figured-musical"
   },
   "source": [
    "## Modelling"
   ]
  },
  {
   "cell_type": "markdown",
   "id": "h9TweQ2Yndfk",
   "metadata": {
    "id": "h9TweQ2Yndfk"
   },
   "source": [
    "### Model Selection"
   ]
  },
  {
   "cell_type": "markdown",
   "id": "M3AOnFJnnpVw",
   "metadata": {
    "id": "M3AOnFJnnpVw"
   },
   "source": [
    "Here we will run different models and will tune the hyperparameters to further improve the model. In determining the metrics to evaluate the model, we first look at the types of prediction error we could get - **Type 1 error and Type 2 error**.\n",
    "\n",
    "**False Positive Rate(FPR)** is the fraction of false alerts based on model predictions which is when model predicting WNV present when it actually is not. From goverment's perspective, should there be infact not a WNV present and spraying efforts were made, it would be inefficient use of resources. And if people were made alarmed that their living area indicated presence of WNV, they may purchase mosquito repellents when they don't actually need to.\n",
    "\n",
    "**False Negative Rate(FNR)** is the fraction of missed detection based on model predictions which is when model predicting that WNV is not present when it actually is.This might result in the residents not finding the need to buy mosquito repellents or any precautions which might result in an outbreak resulting in high healthcare costs due to this.\n",
    "\n",
    "From the above two types of error, Type 2 is more disastrous than Type 1 error from cost basis as well as from the value of human life. Therefore our model should reduce the **False positives** as much as possible."
   ]
  },
  {
   "cell_type": "markdown",
   "id": "9hDgkWEBn79g",
   "metadata": {
    "id": "9hDgkWEBn79g"
   },
   "source": [
    "### Scoring Metrics"
   ]
  },
  {
   "cell_type": "markdown",
   "id": "YjR5YfhDnwNO",
   "metadata": {
    "id": "YjR5YfhDnwNO"
   },
   "source": [
    "The precision-recall trade-off shows how to strike a balance between false positive and false negative rates. Precision measures how accurate the model is at estimating positive labels (in this case, the existence of WNV) and is a reasonable criterion to use when the cost of a false positive is greater than the cost of a false negative.\n",
    "\n",
    "Recall calculates the percentage of actual positives a model correctly identified (ie. true positives) and is a good evaluation metric when the cost of false negative is higher than that of false positives, which is in our case.\n",
    "\n",
    "Although recall is more relevant in our case than precision, we cannot disregard precision entirely due to excessive government spending on false positive events. Thus recall is more important than precision but not negligible.\n",
    "\n",
    "We assess our model based on ROC-AUC curve which visualises the trade off between the True-Positive Rate(TPR) and False-Positive Rate(FPR). The better the model, the higher the TPR and the lower the FPR. AUC score of 1 indicates perfect classification, and we try to get a score closer to 1."
   ]
  },
  {
   "cell_type": "markdown",
   "id": "short-program",
   "metadata": {},
   "source": [
    "### Model Training"
   ]
  },
  {
   "cell_type": "code",
   "execution_count": 13,
   "id": "current-filter",
   "metadata": {
    "id": "current-filter"
   },
   "outputs": [],
   "source": [
    "# defining a common function that we will use for modelling\n",
    "\n",
    "def model_builder(model, params):\n",
    "    \n",
    "    # Declaring model metrics that we will return at the end of the function\n",
    "    metrics = {}\n",
    "\n",
    "    # Initialize gridsearch for model based on params passed\n",
    "    gs = GridSearchCV(model, param_grid=params, cv=5, scoring='recall', n_jobs=-1)\n",
    "\n",
    "    # Fit the model\n",
    "    gs.fit(X_train_sm, y_train_sm)\n",
    "\n",
    "    # Best parameters\n",
    "    best_params = gs.best_params_\n",
    "\n",
    "    # Best model\n",
    "    best_model = gs.best_estimator_\n",
    "\n",
    "    # Fit the best model\n",
    "    best_model.fit(X_train_sm, y_train_sm)\n",
    "\n",
    "    # Predic validation set\n",
    "    predictions = best_model.predict(X_val_sc)\n",
    "\n",
    "    # Metrics\n",
    "    train_pred_prob = best_model.predict_proba(X_train_sm)[:,1]\n",
    "    val_pred_prob = best_model.predict_proba(X_val_sc)[:,1]\n",
    "    roc_auc_train = roc_auc_score(y_train_sm, train_pred_prob)\n",
    "    roc_auc_val = roc_auc_score(y_val, val_pred_prob)\n",
    "    tn, fp, fn, tp = confusion_matrix(y_val, predictions).ravel()\n",
    "    sensitivity = tp/(tp + fn)\n",
    "    specificity = tn/(tn + fp)\n",
    "    accuracy = (tn + tp)/(tn + tp + fn + fp)\n",
    "  \n",
    "    metrics['roc_auc_train'] = roc_auc_train\n",
    "    metrics['roc_auc_val'] = roc_auc_val\n",
    "    metrics['accuracy'] = accuracy\n",
    "    metrics['sensitivity'] = sensitivity\n",
    "    metrics['specificity'] = specificity\n",
    "    metrics['FalsePos'] = fp\n",
    "    metrics['TruePos'] = tp\n",
    "    metrics['FalseNeg'] = fn\n",
    "    metrics['TrueNeg'] = tn\n",
    "  \n",
    "    return (best_params, best_model, metrics)"
   ]
  },
  {
   "cell_type": "markdown",
   "id": "informed-venezuela",
   "metadata": {
    "id": "informed-venezuela"
   },
   "source": [
    "#### Logistic Regression"
   ]
  },
  {
   "cell_type": "code",
   "execution_count": 14,
   "id": "xhZBn7zL1jWg",
   "metadata": {
    "colab": {
     "base_uri": "https://localhost:8080/"
    },
    "id": "xhZBn7zL1jWg",
    "outputId": "329e5bb8-6048-4156-99ee-bf89b3e84d17"
   },
   "outputs": [
    {
     "name": "stderr",
     "output_type": "stream",
     "text": [
      "/Users/jeffersonqiu/opt/anaconda3/envs/dsi/lib/python3.8/site-packages/sklearn/model_selection/_search.py:918: UserWarning: One or more of the test scores are non-finite: [0.78879341 0.78879424        nan 0.79145522 0.79145508        nan\n",
      " 0.7921205  0.79162161        nan]\n",
      "  warnings.warn(\n"
     ]
    },
    {
     "name": "stdout",
     "output_type": "stream",
     "text": [
      "{'C': 20, 'max_iter': 5000, 'penalty': 'l1', 'random_state': 42, 'solver': 'saga'}\n",
      "{'roc_auc_train': 0.8188400712475925, 'roc_auc_val': 0.8062387889924312, 'accuracy': 0.6951392166116093, 'sensitivity': 0.7456140350877193, 'specificity': 0.6922693266832918, 'FalsePos': 617, 'TruePos': 85, 'FalseNeg': 29, 'TrueNeg': 1388}\n"
     ]
    }
   ],
   "source": [
    "# declare grid search parameters\n",
    "\n",
    "lr_params = {'solver':['saga'], \n",
    "             'penalty':['l1','l2','elasticnet'], \n",
    "             'C':[1, 10, 20],\n",
    "             'max_iter':[5000],\n",
    "             'random_state':[42]\n",
    "            }\n",
    "\n",
    "# Initial the model\n",
    "lr_model = LogisticRegression()\n",
    "\n",
    "best_params_lr, best_model_lr, metrics_lr = model_builder(lr_model, lr_params)\n",
    "\n",
    "print(best_params_lr)\n",
    "print(metrics_lr)"
   ]
  },
  {
   "cell_type": "markdown",
   "id": "VFw5DLWac0V4",
   "metadata": {
    "id": "VFw5DLWac0V4"
   },
   "source": [
    "#### Random Forest "
   ]
  },
  {
   "cell_type": "code",
   "execution_count": 15,
   "id": "X9L61RzMdLud",
   "metadata": {
    "colab": {
     "base_uri": "https://localhost:8080/"
    },
    "id": "X9L61RzMdLud",
    "outputId": "961383fe-990e-4c7f-fb28-dc90033e7f21"
   },
   "outputs": [
    {
     "name": "stdout",
     "output_type": "stream",
     "text": [
      "{'class_weight': 'balanced', 'max_depth': 6, 'n_estimators': 190, 'random_state': 42}\n",
      "{'roc_auc_train': 0.9310327097984303, 'roc_auc_val': 0.8523209520059501, 'accuracy': 0.756488909863143, 'sensitivity': 0.8333333333333334, 'specificity': 0.7521197007481297, 'FalsePos': 497, 'TruePos': 95, 'FalseNeg': 19, 'TrueNeg': 1508}\n"
     ]
    }
   ],
   "source": [
    "# declare grid search parameters\n",
    "rf_params = {'n_estimators':[100, 150, 190], \n",
    "             'class_weight': ['balanced'],\n",
    "             'max_depth':[4, 5, 6],\n",
    "             'random_state':[42]}\n",
    "\n",
    "# Initialize the model\n",
    "rf_model = RandomForestClassifier()\n",
    "\n",
    "best_params_rf, best_model_rf, metrics_rf = model_builder(rf_model, rf_params)\n",
    "\n",
    "print(best_params_rf)\n",
    "print(metrics_rf)"
   ]
  },
  {
   "cell_type": "markdown",
   "id": "l9OoFGe6X5Hy",
   "metadata": {
    "id": "l9OoFGe6X5Hy"
   },
   "source": [
    "#### Ada Boost"
   ]
  },
  {
   "cell_type": "code",
   "execution_count": 16,
   "id": "JNW7Qv0MYCLV",
   "metadata": {
    "colab": {
     "base_uri": "https://localhost:8080/"
    },
    "id": "JNW7Qv0MYCLV",
    "outputId": "259d9be0-cc26-4e7c-ea0d-e9adcce0d2af"
   },
   "outputs": [
    {
     "name": "stdout",
     "output_type": "stream",
     "text": [
      "{'learning_rate': 0.3, 'n_estimators': 200, 'random_state': 42}\n",
      "{'roc_auc_train': 0.9278624209329257, 'roc_auc_val': 0.8394124338277115, 'accuracy': 0.780556866446437, 'sensitivity': 0.7280701754385965, 'specificity': 0.7835411471321696, 'FalsePos': 434, 'TruePos': 83, 'FalseNeg': 31, 'TrueNeg': 1571}\n"
     ]
    }
   ],
   "source": [
    "# declare grid search parameters\n",
    "ada_params = {'learning_rate': [0.1, 0.2, 0.3],\n",
    "              'n_estimators': [100, 150, 200],\n",
    "              'random_state': [42]}\n",
    "\n",
    "# Initialize the model\n",
    "ada_model = AdaBoostClassifier()\n",
    "\n",
    "best_params_ada, best_model_ada, metrics_ada = model_builder(ada_model, ada_params)\n",
    "\n",
    "print(best_params_ada)\n",
    "print(metrics_ada)"
   ]
  },
  {
   "cell_type": "markdown",
   "id": "wW4jJAPbiIyM",
   "metadata": {
    "id": "wW4jJAPbiIyM"
   },
   "source": [
    "#### Gradient Boost"
   ]
  },
  {
   "cell_type": "code",
   "execution_count": 17,
   "id": "sUo5UGj-hE05",
   "metadata": {
    "id": "sUo5UGj-hE05"
   },
   "outputs": [
    {
     "name": "stdout",
     "output_type": "stream",
     "text": [
      "{'learning_rate': 0.2, 'max_depth': 4, 'n_estimators': 100, 'random_state': 42}\n",
      "{'roc_auc_train': 0.9904642690435482, 'roc_auc_val': 0.8545587784923656, 'accuracy': 0.8890986314299197, 'sensitivity': 0.5263157894736842, 'specificity': 0.9097256857855361, 'FalsePos': 181, 'TruePos': 60, 'FalseNeg': 54, 'TrueNeg': 1824}\n"
     ]
    }
   ],
   "source": [
    "# declare grid search parameters\n",
    "gb_params = {'learning_rate': [0.2, 0.3, 0.5],\n",
    "             'max_depth': [3, 4, 5],\n",
    "             'n_estimators': [100, 150, 200, 300],\n",
    "             'random_state': [42]}\n",
    "\n",
    "# Initialize the model\n",
    "gb_model = GradientBoostingClassifier()\n",
    "\n",
    "best_params_gb, best_model_gb, metrics_gb = model_builder(gb_model, gb_params)\n",
    "\n",
    "print(best_params_gb)\n",
    "print(metrics_gb)"
   ]
  },
  {
   "cell_type": "markdown",
   "id": "TX7PVh3cYJ7w",
   "metadata": {
    "id": "TX7PVh3cYJ7w"
   },
   "source": [
    "#### Extra Tress"
   ]
  },
  {
   "cell_type": "code",
   "execution_count": 18,
   "id": "vmAjlK2gYJWI",
   "metadata": {
    "id": "vmAjlK2gYJWI"
   },
   "outputs": [
    {
     "name": "stdout",
     "output_type": "stream",
     "text": [
      "{'max_depth': 6, 'max_features': 'sqrt', 'n_estimators': 50, 'random_state': 42}\n",
      "{'roc_auc_train': 0.8941408726129143, 'roc_auc_val': 0.8492628078925494, 'accuracy': 0.7512977819726286, 'sensitivity': 0.7807017543859649, 'specificity': 0.7496259351620947, 'FalsePos': 502, 'TruePos': 89, 'FalseNeg': 25, 'TrueNeg': 1503}\n"
     ]
    }
   ],
   "source": [
    "# declare grid search parameters\n",
    "et_params = {'n_estimators': [50, 100,150,200],\n",
    "             'max_depth': [4, 5, 6],\n",
    "             'max_features': ['sqrt', 'log2'],\n",
    "             'random_state': [42]\n",
    "            }\n",
    "\n",
    "# Initiatize the model\n",
    "et_model = ExtraTreesClassifier()\n",
    "\n",
    "best_params_et, best_model_et, metrics_et = model_builder(et_model, et_params)\n",
    "\n",
    "print(best_params_et)\n",
    "print(metrics_et)"
   ]
  },
  {
   "cell_type": "markdown",
   "id": "ey6hwPfqYlxt",
   "metadata": {
    "id": "ey6hwPfqYlxt"
   },
   "source": [
    "### Model Comparisson"
   ]
  },
  {
   "cell_type": "code",
   "execution_count": 19,
   "id": "--dxtkv5YrR6",
   "metadata": {
    "id": "--dxtkv5YrR6"
   },
   "outputs": [
    {
     "name": "stdout",
     "output_type": "stream",
     "text": [
      "                       Roc Auc Train    Roc Auc Validation    Accuracy    Sensitivity    Specificity    Test Roc Auc Score\n",
      "-------------------  ---------------  --------------------  ----------  -------------  -------------  --------------------\n",
      "Logistic Regression         0.81884               0.806239    0.745614       0.692269       0.695139               0.71408\n",
      "Random Forest               0.931033              0.852321    0.833333       0.75212        0.756489               0.73149\n",
      "Ada Boost                   0.927862              0.839412    0.72807        0.783541       0.780557               0.74243\n",
      "Extra Trees                 0.894141              0.849263    0.780702       0.749626       0.751298               0.74114\n",
      "Gradient Boost              0.990464              0.854559    0.526316       0.909726       0.889099               0.71217\n"
     ]
    }
   ],
   "source": [
    "scores = [['Logistic Regression', metrics_lr['roc_auc_train'], metrics_lr['roc_auc_val'], \n",
    "           metrics_lr['sensitivity'], metrics_lr['specificity'], metrics_lr['accuracy'], '0.71408'],\n",
    "          ['Random Forest', metrics_rf['roc_auc_train'], metrics_rf['roc_auc_val'],  \n",
    "           metrics_rf['sensitivity'], metrics_rf['specificity'], metrics_rf['accuracy'], '0.73149'],\n",
    "          ['Ada Boost', metrics_ada['roc_auc_train'], metrics_ada['roc_auc_val'], \n",
    "           metrics_ada['sensitivity'], metrics_ada['specificity'], metrics_ada['accuracy'], '0.74243'],\n",
    "          ['Extra Trees', metrics_et['roc_auc_train'], metrics_et['roc_auc_val'], \n",
    "           metrics_et['sensitivity'], metrics_et['specificity'], metrics_et['accuracy'], '0.74114'],\n",
    "          ['Gradient Boost', metrics_gb['roc_auc_train'], metrics_gb['roc_auc_val'], \n",
    "           metrics_gb['sensitivity'], metrics_gb['specificity'], metrics_gb['accuracy'], '0.71217']]\n",
    "print (tabulate(scores, headers=[\"\", \"Roc Auc Train\", \"Roc Auc Validation\", \"Accuracy\", 'Sensitivity', 'Specificity', 'Test Roc Auc Score']))"
   ]
  },
  {
   "cell_type": "markdown",
   "id": "CvI537LLglpM",
   "metadata": {
    "id": "CvI537LLglpM"
   },
   "source": [
    "**Observations:**\n",
    "\n",
    "- If we compare the models, Gradient Boost have the highest roc auc but it scores very poorly for accuracy. Moreover, the train and test roc auc score indicates overfitting.\n",
    "- The other models seem not to be overly fitted. \n",
    "- Random Forest and Ada Boost perform pretty well for roc auc scores in comparison to Logistic Regression and Extra Trees. \n",
    "- The sensitivity (True Positive) of Ada Boost is higher than Random Forest, however we would like to analyze in more detail by plotting ROC curve.\n",
    "\n",
    "Let us take a closer look into the AUC-ROC curve."
   ]
  },
  {
   "cell_type": "code",
   "execution_count": 20,
   "id": "vSxC2wOjXen4",
   "metadata": {
    "id": "vSxC2wOjXen4"
   },
   "outputs": [
    {
     "data": {
      "image/png": "[encoded data removed]",
      "text/plain": [
       "<Figure size 576x432 with 1 Axes>"
      ]
     },
     "metadata": {
      "needs_background": "light"
     },
     "output_type": "display_data"
    }
   ],
   "source": [
    "fig, ax = plt.subplots(figsize=(8, 6))\n",
    "lr_disp = plot_roc_curve(best_model_lr, X_val_sc, y_val, ax=ax)\n",
    "rf_disp = plot_roc_curve(best_model_rf, X_val_sc, y_val, ax=ax)\n",
    "et_disp = plot_roc_curve(best_model_et, X_val_sc, y_val, ax=ax)\n",
    "ada_disp = plot_roc_curve(best_model_ada, X_val_sc, y_val, ax=ax)\n",
    "gb_disp = plot_roc_curve(best_model_gb, X_val_sc, y_val, ax=ax)\n",
    "ax.set_title('ROC Curve Comparison', fontsize=14)\n",
    "ax.legend(fontsize=12)\n",
    "ax.set_ylabel('True Positive Rate', fontsize=12)\n",
    "ax.set_xlabel('False Positive Rate', fontsize=12);"
   ]
  },
  {
   "cell_type": "markdown",
   "id": "cHQLtNZBimcl",
   "metadata": {
    "id": "cHQLtNZBimcl"
   },
   "source": [
    "**Observations:**\n",
    "\n",
    "From the above ROC we can see that Random Forest, Extra Trees and Gradient Boosting perform the slightly better than all the other models due to the the higher the AUC.\n",
    "\n",
    "However, we still cannot determine which model that we will pick for our case as we are looking for the best performing model in terms of identifying false negative to prevent missing traps with potentially WNV presence which may cause lives. Even with a same model, we can increase the sensitivity of identifying positive case by adjusting the probability threshold accordingly. However, this is always with the cost of having higher false positive also (as there will be more datapoints that is considered to be in positive class). Therefore, the metric we are going to use is Sensitivity (TP/TP+FN) and Precision as the measure of false negative and false positive, accordingly. \n",
    "\n",
    "The approach we are going to take:\n",
    "1. Start with threshold = 0 for predicting positive class. This means all data will be considered as positive class (similar to baseline model).\n",
    "2. Slowly increase threshold for predicting positive class. This means there start to be more datapoints considered as **negative** class (as the probability given by the model is very low/ lower than the threshold).\n",
    "3. Keep increasing threshold for predicting positive class. We will start seeing a **drop in sensitivity** due to false negative detection while we **increase precision** as false positive drops.\n",
    "4. We will see which model that can **maintain the highest sensitivity with the highest increase in precision**. "
   ]
  },
  {
   "cell_type": "code",
   "execution_count": 21,
   "id": "eI77KAp8-DLL",
   "metadata": {
    "id": "eI77KAp8-DLL"
   },
   "outputs": [],
   "source": [
    "def plot_sensitivity_precision(model, label, ax):\n",
    "    conf_matrix = []\n",
    "\n",
    "    for threshold in np.linspace(0, 0.5, 25):\n",
    "        y_preds = (model.predict_proba(X_val_sc)[:, 1] > threshold).astype('float')\n",
    "        tn, fp, fn, tp = confusion_matrix(y_val, y_preds).ravel()\n",
    "        sensitivity = tp/(tp + fn)\n",
    "        if (tp + fp) == 0:\n",
    "            precision = 0\n",
    "        else:\n",
    "            precision = tp/(tp + fp)\n",
    "        conf_matrix.append([threshold, sensitivity, precision])\n",
    "                   \n",
    "    matrix = pd.DataFrame(conf_matrix, columns=['threshold', 'sensitivity', 'precision'])    \n",
    "\n",
    "    ax.plot(matrix['precision'], matrix['sensitivity'], label=label)\n",
    "    ax.set_xlabel('Precision')\n",
    "    ax.set_ylabel('Sensitivity')\n",
    "    \n",
    "    return matrix"
   ]
  },
  {
   "cell_type": "code",
   "execution_count": 22,
   "id": "B4WZ4WDj-_bq",
   "metadata": {
    "id": "B4WZ4WDj-_bq"
   },
   "outputs": [
    {
     "data": {
      "image/png": "[encoded data removed]",
      "text/plain": [
       "<Figure size 720x432 with 1 Axes>"
      ]
     },
     "metadata": {
      "needs_background": "light"
     },
     "output_type": "display_data"
    }
   ],
   "source": [
    "fig, ax = plt.subplots(figsize=(10, 6))\n",
    "\n",
    "plot_sensitivity_precision(best_model_lr, 'Logistic Regression', ax)\n",
    "plot_sensitivity_precision(best_model_rf, 'Random Forest', ax)\n",
    "plot_sensitivity_precision(best_model_ada, 'Ada Boost', ax)\n",
    "plot_sensitivity_precision(best_model_et, 'Extra Trees',ax)\n",
    "ax.set_title('Sensitivity vs Precision Graph', fontsize=14)\n",
    "ax.legend(fontsize=14);"
   ]
  },
  {
   "cell_type": "markdown",
   "id": "barr73ibjHk5",
   "metadata": {
    "id": "barr73ibjHk5"
   },
   "source": [
    "**Observations:**\n",
    "\n",
    "- From the graph above, Random Forest and Extra Trees seems to be performing the best as it can achieve higher precision and sensitivity compared to the other models.\n",
    "- However, the training result of extra trees are unstable due to its random nature. Therefore, we will select Random Forest as it can reliably provide us a good results. \n",
    "- Based on the graph, we found that the threshold should be placed at 0.395 to obtain the highest sensitivity with reasonable precision. Therefore this value will be used to predict which trap to perform spraying subsequently."
   ]
  },
  {
   "cell_type": "markdown",
   "id": "uTfSbpvTuNQi",
   "metadata": {
    "id": "uTfSbpvTuNQi"
   },
   "source": [
    "### Feature Importance"
   ]
  },
  {
   "cell_type": "markdown",
   "id": "absolute-correction",
   "metadata": {},
   "source": [
    "Once the best model is chosen, we would like to understand the best feature to predict the presence of WNV. This feature importance is represented based on the value of coefficient."
   ]
  },
  {
   "cell_type": "code",
   "execution_count": 23,
   "id": "6H4E_p1DYq5R",
   "metadata": {
    "id": "6H4E_p1DYq5R"
   },
   "outputs": [
    {
     "data": {
      "image/png": "[encoded data removed]",
      "text/plain": [
       "<Figure size 864x576 with 1 Axes>"
      ]
     },
     "metadata": {
      "needs_background": "light"
     },
     "output_type": "display_data"
    }
   ],
   "source": [
    "def top10_features(best_model, title):\n",
    "    feature_imp = best_model_rf.feature_importances_\n",
    "\n",
    "    feature_imp_df = pd.DataFrame(index=X.columns, data=feature_imp, \n",
    "                                  columns=['coefficient']).sort_values(by='coefficient', ascending=False).head(10)\n",
    "    feature_imp_df.rename_axis('features', inplace=True)\n",
    "    plt.figure(figsize=(12,8))\n",
    "    sns.barplot(data=feature_imp_df,\n",
    "                y=feature_imp_df.index, x='coefficient', orient='h', palette='coolwarm')\n",
    "    plt.xlabel('Coefficient Values')\n",
    "    plt.ylabel('All Features')\n",
    "    plt.title('Top 10 Feature Importance')\n",
    "    \n",
    "top10_features(best_model_rf, 'Feature Importance');"
   ]
  },
  {
   "cell_type": "markdown",
   "id": "XI8SM1_48M1L",
   "metadata": {
    "id": "XI8SM1_48M1L"
   },
   "source": [
    "**Observations:**\n",
    "- As predicted, infection rate seems to be one of the most important feature as it contains the information form different mosquito species and the pattern of seasonality on weekly basis on a year. \n",
    "- DarkHours also comes out second, cementing further findings by multiple researchers that mosquito are more active at night, therefore having a longer night allows mosquito to have more active time per day. \n",
    "- The trap grouping features are very low in the list. Therefore, we can conclude that they are not as crucial as we originally think."
   ]
  },
  {
   "cell_type": "markdown",
   "id": "l430wkkDX7gC",
   "metadata": {
    "id": "l430wkkDX7gC"
   },
   "source": [
    "## Final Predictions"
   ]
  },
  {
   "cell_type": "markdown",
   "id": "fixed-brief",
   "metadata": {},
   "source": [
    "This final prediction is performed to produce probability of having WNV in the even years between 2008-2014. The ultimate purpose is to produce as accurate probability as possible to obtain high ROC-AUC score on [Kaggle challenge](https://www.kaggle.com/c/predict-west-nile-virus/submit). \n",
    "\n",
    "By right, we should perform another round of gridsearch based on 'ROC-AUC' as the 'scoring' metrics. However, after performing such a task, we found that the best model is still exactly converge to the model provided by gridsearch based on 'recall' as the scoring metrics. Therefore, for brevity, we will reuse the best model based on 'ROC-AUC' scoring. "
   ]
  },
  {
   "cell_type": "code",
   "execution_count": 24,
   "id": "cVjUjhOvYEfT",
   "metadata": {
    "id": "cVjUjhOvYEfT"
   },
   "outputs": [],
   "source": [
    "# Scale the data as we scale the input of best model initially\n",
    "ss = StandardScaler()\n",
    "X_test = test.drop(columns=['Id'])\n",
    "\n",
    "train_sc = ss.fit_transform(X)\n",
    "X_test_sc = ss.transform(X_test)\n",
    "\n",
    "# Fit the model to the training set in 2007, 2009, 2011, 2013\n",
    "best_model_rf.fit(train_sc, y)\n",
    "\n",
    "# Predicting test data\n",
    "predictions = best_model_rf.predict_proba(X_test_sc)[:,1]\n",
    "pred_df = pd.DataFrame({'Id': test['Id'], 'WnvPresent': predictions})\n",
    "\n",
    "# Exporting the data to a file to submit to kaggle\n",
    "pred_df.to_csv('submission.csv', index=False)"
   ]
  },
  {
   "cell_type": "markdown",
   "id": "meaning-howard",
   "metadata": {},
   "source": [
    "Finally, based on this submission, we obtain Kaggle accuracy score of 0.74. "
   ]
  }
 ],
 "metadata": {
  "accelerator": "GPU",
  "colab": {
   "collapsed_sections": [],
   "name": "4. Model Training and Tuning.ipynb",
   "provenance": [],
   "toc_visible": true
  },
  "kernelspec": {
   "display_name": "Python 3",
   "language": "python",
   "name": "python3"
  },
  "language_info": {
   "codemirror_mode": {
    "name": "ipython",
    "version": 3
   },
   "file_extension": ".py",
   "mimetype": "text/x-python",
   "name": "python",
   "nbconvert_exporter": "python",
   "pygments_lexer": "ipython3",
   "version": "3.7.9"
  },
  "toc": {
   "base_numbering": "4",
   "nav_menu": {},
   "number_sections": true,
   "sideBar": true,
   "skip_h1_title": false,
   "title_cell": "Table of Contents",
   "title_sidebar": "Contents",
   "toc_cell": false,
   "toc_position": {},
   "toc_section_display": true,
   "toc_window_display": true
  }
 },
 "nbformat": 4,
 "nbformat_minor": 5
}
